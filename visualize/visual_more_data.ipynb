{
 "cells": [
  {
   "cell_type": "code",
   "execution_count": 2,
   "metadata": {},
   "outputs": [],
   "source": [
    "import pickle\n",
    "import json\n",
    "import os\n",
    "import numpy as np\n",
    "from bitsets import bitset\n",
    "from matplotlib import pyplot as plt\n",
    "import itertools"
   ]
  },
  {
   "cell_type": "code",
   "execution_count": 7,
   "metadata": {},
   "outputs": [],
   "source": [
    "def calculate_SV(task, n_clients, experiment_type, round_choice):\n",
    "    folder = '../fedtask/{}/record/'.format(task)\n",
    "    if experiment_type == 'ideal':\n",
    "        prefix = 'fedavg_Mlr_R100_B10.0_E2_LR0.5000_P1.00_S0_LD1.000_WD0.000_AVLIDL_CNIDL_CPIDL_TIDL_'\n",
    "    elif experiment_type == 'central':\n",
    "        prefix = 'sv_central_Mlr_R100_B10.0_E2_LR0.5000_P1.00_S0_LD1.000_WD0.000_AVLIDL_CNIDL_CPIDL_TIDL_'\n",
    "    else:\n",
    "        raise ValueError('param experiment_type must be in [\"ideal\", \"central\"]')\n",
    "    if round_choice not in ['best', 'last']:\n",
    "        raise ValueError('param experiment_type must be in [\"best\", \"last\"]')\n",
    "    DICT = dict()\n",
    "    files = os.listdir(folder)\n",
    "    files.sort(reverse=True)\n",
    "    for file in files:\n",
    "        if file.startswith(prefix):\n",
    "            with open(os.path.join(folder, file), 'r') as f:\n",
    "                DICT[file.replace(prefix, '').replace('.json', '')] = np.array(json.load(f)['test_accuracy'])\n",
    "    DICT['0' * n_clients] = np.zeros(101)\n",
    "    CLIENTS_BITSET = bitset('clients_bitset', tuple(range(n_clients)))\n",
    "    SV = list()\n",
    "    for client in range(n_clients):\n",
    "        result = 0.0\n",
    "        rest_clients = [client_ for client_ in range(n_clients) if client_ != client]\n",
    "        for i in range(0, len(rest_clients) + 1):\n",
    "            a_i = 0.0\n",
    "            count_i = 0\n",
    "            for subset in itertools.combinations(rest_clients, i):\n",
    "                if round_choice == 'last':\n",
    "                    a_i += \\\n",
    "                        (\n",
    "                            DICT[CLIENTS_BITSET(set(subset).union({client})).bits()][-1] - \\\n",
    "                            DICT[CLIENTS_BITSET(subset).bits()][-1]\n",
    "                        )\n",
    "                elif round_choice == 'best':\n",
    "                    a_i += \\\n",
    "                        (\n",
    "                            DICT[CLIENTS_BITSET(set(subset).union({client})).bits()].max() - \\\n",
    "                            DICT[CLIENTS_BITSET(subset).bits()].max()\n",
    "                        )\n",
    "                count_i += 1\n",
    "            a_i = a_i / count_i\n",
    "            result += a_i\n",
    "        result = result / len(range(n_clients))\n",
    "        SV.append(result)\n",
    "    SV = np.array(SV)\n",
    "    # filename = '{}_{}.npy'.format(experiment_type, round_choice)\n",
    "    # with open(os.path.join('../SV_result/', task, filename), 'wb') as f:\n",
    "    #     pickle.dump(SV, f)\n",
    "    print(task, experiment_type, round_choice)\n",
    "    print(SV)\n",
    "    return SV"
   ]
  },
  {
   "cell_type": "code",
   "execution_count": 8,
   "metadata": {},
   "outputs": [
    {
     "name": "stdout",
     "output_type": "stream",
     "text": [
      "synthetic_classification_cnum5_dist11_skew1.0_seed0 ideal last\n",
      "[0.20628583 0.19963116 0.19720371 0.19353753 0.19147669]\n",
      "synthetic_classification_cnum5_dist11_skew1.0_seed0 ideal best\n",
      "[0.20642137 0.20013887 0.1971115  0.19380638 0.1919233 ]\n",
      "synthetic_classification_cnum5_dist11_skew1.0_seed0 central last\n",
      "[0.20267076 0.19867684 0.19743812 0.19534951 0.19359974]\n",
      "synthetic_classification_cnum5_dist11_skew1.0_seed0 central best\n",
      "[0.20287517 0.19945341 0.19764254 0.19536506 0.19399858]\n"
     ]
    }
   ],
   "source": [
    "n_clients = 5\n",
    "for task in [\n",
    "    'synthetic_classification_cnum5_dist11_skew1.0_seed0'\n",
    "]:\n",
    "    for experiment_type in ['ideal', 'central']:\n",
    "        for round_choice in ['last', 'best']:\n",
    "            calculate_SV(task, n_clients, experiment_type, round_choice)"
   ]
  },
  {
   "cell_type": "code",
   "execution_count": 11,
   "metadata": {},
   "outputs": [
    {
     "data": {
      "image/png": "[encoded data removed]",
      "text/plain": [
       "<Figure size 432x288 with 1 Axes>"
      ]
     },
     "metadata": {
      "needs_background": "light"
     },
     "output_type": "display_data"
    }
   ],
   "source": [
    "x = np.arange(5)\n",
    "ideal = [0.20628583, 0.19963116, 0.19720371, 0.19353753, 0.19147669]\n",
    "central = [0.20267076, 0.19867684, 0.19743812, 0.19534951, 0.19359974]\n",
    "plt.plot(x,ideal, label='ideal')\n",
    "plt.plot(x, central, label='central')\n",
    "plt.legend()\n",
    "plt.show()"
   ]
  }
 ],
 "metadata": {
  "kernelspec": {
   "display_name": "longnd",
   "language": "python",
   "name": "python3"
  },
  "language_info": {
   "codemirror_mode": {
    "name": "ipython",
    "version": 3
   },
   "file_extension": ".py",
   "mimetype": "text/x-python",
   "name": "python",
   "nbconvert_exporter": "python",
   "pygments_lexer": "ipython3",
   "version": "3.8.12"
  },
  "orig_nbformat": 4,
  "vscode": {
   "interpreter": {
    "hash": "9f784b053654bb8129a3cb1aa1762d7834caeb9ba8691a85058f59d7796858ce"
   }
  }
 },
 "nbformat": 4,
 "nbformat_minor": 2
}
