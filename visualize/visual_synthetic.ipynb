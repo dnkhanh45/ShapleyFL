{
 "cells": [
  {
   "cell_type": "code",
   "execution_count": 1,
   "metadata": {},
   "outputs": [],
   "source": [
    "import pickle\n",
    "import numpy as np\n",
    "import json\n",
    "from collections import Counter\n",
    "import matplotlib.pyplot as plt"
   ]
  },
  {
   "cell_type": "code",
   "execution_count": 12,
   "metadata": {},
   "outputs": [],
   "source": [
    "with open('../fedtask/synthetic_cnum16_dist11_skew1.0_seed1/data.json', 'r', encoding='utf-8') as f:\n",
    "    data = json.load(f)"
   ]
  },
  {
   "cell_type": "code",
   "execution_count": 15,
   "metadata": {},
   "outputs": [
    {
     "data": {
      "text/plain": [
       "array([0.50970018, 0.1675485 , 0.08759553, 0.05526161, 0.03821282,\n",
       "       0.02880658, 0.02175191, 0.01763668, 0.01469724, 0.01234568,\n",
       "       0.01058201, 0.00881834, 0.00823045, 0.00705467, 0.00587889,\n",
       "       0.00587889])"
      ]
     },
     "execution_count": 15,
     "metadata": {},
     "output_type": "execute_result"
    }
   ],
   "source": [
    "X = np.array([len(data[key]['dtrain']['y']) for key in data['client_names']])\n",
    "X = X / X.sum()\n",
    "X"
   ]
  },
  {
   "cell_type": "code",
   "execution_count": 35,
   "metadata": {},
   "outputs": [],
   "source": [
    "const_lambda_array = np.zeros([16,])\n",
    "for i in range(200):\n",
    "    with open(f'../SV_result/synthetic_cnum16_dist11_skew1.0_seed1/const_lambda/Round{i+1}const_lambda.npy', 'rb') as f:\n",
    "        const_lambda = pickle.load(f)\n",
    "        const_lambda_array += const_lambda / pow(i + 1, 2)"
   ]
  },
  {
   "cell_type": "code",
   "execution_count": 36,
   "metadata": {},
   "outputs": [],
   "source": [
    "const_lambda_array = const_lambda_array / const_lambda_array.sum()"
   ]
  },
  {
   "cell_type": "code",
   "execution_count": 37,
   "metadata": {},
   "outputs": [
    {
     "data": {
      "text/plain": [
       "array([0.20640867, 0.10759534, 0.06697851, 0.05169602, 0.04923877,\n",
       "       0.04487255, 0.04471022, 0.04515692, 0.04979177, 0.05210872,\n",
       "       0.04985333, 0.04597862, 0.05035427, 0.04652597, 0.04401814,\n",
       "       0.04471217])"
      ]
     },
     "execution_count": 37,
     "metadata": {},
     "output_type": "execute_result"
    }
   ],
   "source": [
    "const_lambda_array"
   ]
  },
  {
   "cell_type": "code",
   "execution_count": 21,
   "metadata": {},
   "outputs": [],
   "source": [
    "exact_array = np.zeros([16,])\n",
    "for i in range(50):\n",
    "    with open(f'../SV_result/mnist_cnum6_dist2_skew0.8_seed0/exact/Round{i+1}exact.npy', 'rb') as f:\n",
    "        exact = pickle.load(f)\n",
    "        exact_array += exact / pow(i + 1, 2)"
   ]
  },
  {
   "cell_type": "code",
   "execution_count": 22,
   "metadata": {},
   "outputs": [],
   "source": [
    "exact_array = exact_array / exact_array.sum()"
   ]
  },
  {
   "cell_type": "code",
   "execution_count": 23,
   "metadata": {},
   "outputs": [
    {
     "data": {
      "text/plain": [
       "array([0.19403142, 0.18369675, 0.11331736, 0.19336803, 0.13188446,\n",
       "       0.18370198])"
      ]
     },
     "execution_count": 23,
     "metadata": {},
     "output_type": "execute_result"
    }
   ],
   "source": [
    "exact_array"
   ]
  },
  {
   "cell_type": "code",
   "execution_count": 8,
   "metadata": {},
   "outputs": [],
   "source": [
    "# for client_name in fdata1['client_names']:\n",
    "#     print(sum(list(Counter(fdata1[client_name]['dtrain']['y']).values())))"
   ]
  },
  {
   "cell_type": "code",
   "execution_count": 38,
   "metadata": {},
   "outputs": [],
   "source": [
    "with open(f'../SV_result/synthetic_cnum16_dist11_skew1.0_seed1/optimal_lambda/optimal_lambda-300.npy', 'rb') as f:\n",
    "    optimal = pickle.load(f)"
   ]
  },
  {
   "cell_type": "code",
   "execution_count": 39,
   "metadata": {},
   "outputs": [],
   "source": [
    "for i in range(200):\n",
    "    optimal[i] = optimal[i] / pow(i + 1, 2)"
   ]
  },
  {
   "cell_type": "code",
   "execution_count": 40,
   "metadata": {},
   "outputs": [
    {
     "data": {
      "text/plain": [
       "array([0.22868666, 0.11260836, 0.06121794, 0.04311525, 0.04043782,\n",
       "       0.03413296, 0.03597823, 0.03496294, 0.01412711, 0.01625619,\n",
       "       0.01510967, 0.01562767, 0.01184833, 0.01885399, 0.01724251,\n",
       "       0.01653994])"
      ]
     },
     "execution_count": 40,
     "metadata": {},
     "output_type": "execute_result"
    }
   ],
   "source": [
    "optimal = optimal.sum(axis=0)\n",
    "optimal"
   ]
  },
  {
   "cell_type": "code",
   "execution_count": 41,
   "metadata": {},
   "outputs": [],
   "source": [
    "optimal = optimal / optimal.sum()"
   ]
  },
  {
   "cell_type": "code",
   "execution_count": 13,
   "metadata": {},
   "outputs": [],
   "source": [
    "tmp = np.array([0.40500032, 0.39349033, 0.37641735, 0.25248232, 0.38926632, 0.32802285])\n",
    "tmp = np.array([0.14449378, 0.14986054, 0.15782116, 0.21560837, 0.15183007, 0.18038608])"
   ]
  },
  {
   "cell_type": "code",
   "execution_count": 42,
   "metadata": {
    "notebookRunGroups": {
     "groupValue": ""
    }
   },
   "outputs": [
    {
     "data": {
      "image/png": "[encoded data removed]",
      "text/plain": [
       "<Figure size 864x576 with 1 Axes>"
      ]
     },
     "metadata": {
      "needs_background": "light"
     },
     "output_type": "display_data"
    }
   ],
   "source": [
    "plt.figure(figsize=(12, 8))\n",
    "plt.plot(X, label='data')\n",
    "plt.plot(const_lambda_array, label='const lambda')\n",
    "plt.plot(optimal, label='optimal lambda')\n",
    "# plt.plot(exact_array, label='exact')\n",
    "# plt.plot(tmp, label='wd')\n",
    "plt.legend()\n",
    "plt.show()"
   ]
  },
  {
   "cell_type": "code",
   "execution_count": 15,
   "metadata": {},
   "outputs": [
    {
     "ename": "NameError",
     "evalue": "name 'fdata1' is not defined",
     "output_type": "error",
     "traceback": [
      "\u001b[0;31m---------------------------------------------------------------------------\u001b[0m",
      "\u001b[0;31mNameError\u001b[0m                                 Traceback (most recent call last)",
      "\u001b[1;32m/mnt/disk1/duongtn/ShapleyFL/visualize/visual_cifar10.ipynb Cell 15\u001b[0m in \u001b[0;36m<cell line: 1>\u001b[0;34m()\u001b[0m\n\u001b[0;32m----> <a href='vscode-notebook-cell://ssh-remote%2B%28aiotlabws%29/mnt/disk1/duongtn/ShapleyFL/visualize/visual_cifar10.ipynb#X20sdnNjb2RlLXJlbW90ZQ%3D%3D?line=0'>1</a>\u001b[0m \u001b[39mfor\u001b[39;00m client_name \u001b[39min\u001b[39;00m fdata1[\u001b[39m'\u001b[39m\u001b[39mclient_names\u001b[39m\u001b[39m'\u001b[39m]:\n\u001b[1;32m      <a href='vscode-notebook-cell://ssh-remote%2B%28aiotlabws%29/mnt/disk1/duongtn/ShapleyFL/visualize/visual_cifar10.ipynb#X20sdnNjb2RlLXJlbW90ZQ%3D%3D?line=1'>2</a>\u001b[0m     \u001b[39mprint\u001b[39m(\u001b[39mlist\u001b[39m((Counter(fdata1[client_name][\u001b[39m'\u001b[39m\u001b[39mdtrain\u001b[39m\u001b[39m'\u001b[39m][\u001b[39m'\u001b[39m\u001b[39my\u001b[39m\u001b[39m'\u001b[39m])\u001b[39m.\u001b[39mkeys())))\n\u001b[1;32m      <a href='vscode-notebook-cell://ssh-remote%2B%28aiotlabws%29/mnt/disk1/duongtn/ShapleyFL/visualize/visual_cifar10.ipynb#X20sdnNjb2RlLXJlbW90ZQ%3D%3D?line=2'>3</a>\u001b[0m     \u001b[39mprint\u001b[39m(\u001b[39mlist\u001b[39m(Counter(fdata1[client_name][\u001b[39m'\u001b[39m\u001b[39mdtrain\u001b[39m\u001b[39m'\u001b[39m][\u001b[39m'\u001b[39m\u001b[39my\u001b[39m\u001b[39m'\u001b[39m])\u001b[39m.\u001b[39mvalues()))\n",
      "\u001b[0;31mNameError\u001b[0m: name 'fdata1' is not defined"
     ]
    }
   ],
   "source": [
    "for client_name in fdata1['client_names']:\n",
    "    print(list((Counter(fdata1[client_name]['dtrain']['y']).keys())))\n",
    "    print(list(Counter(fdata1[client_name]['dtrain']['y']).values()))"
   ]
  },
  {
   "cell_type": "code",
   "execution_count": null,
   "metadata": {},
   "outputs": [
    {
     "data": {
      "image/png": "[encoded data removed]",
      "text/plain": [
       "<Figure size 432x288 with 1 Axes>"
      ]
     },
     "metadata": {
      "needs_background": "light"
     },
     "output_type": "display_data"
    },
    {
     "data": {
      "image/png": "[encoded data removed]",
      "text/plain": [
       "<Figure size 432x288 with 1 Axes>"
      ]
     },
     "metadata": {
      "needs_background": "light"
     },
     "output_type": "display_data"
    },
    {
     "data": {
      "image/png": "[encoded data removed]",
      "text/plain": [
       "<Figure size 432x288 with 1 Axes>"
      ]
     },
     "metadata": {
      "needs_background": "light"
     },
     "output_type": "display_data"
    },
    {
     "data": {
      "image/png": "[encoded data removed]",
      "text/plain": [
       "<Figure size 432x288 with 1 Axes>"
      ]
     },
     "metadata": {
      "needs_background": "light"
     },
     "output_type": "display_data"
    },
    {
     "data": {
      "image/png": "[encoded data removed]",
      "text/plain": [
       "<Figure size 432x288 with 1 Axes>"
      ]
     },
     "metadata": {
      "needs_background": "light"
     },
     "output_type": "display_data"
    },
    {
     "data": {
      "image/png": "[encoded data removed]",
      "text/plain": [
       "<Figure size 432x288 with 1 Axes>"
      ]
     },
     "metadata": {
      "needs_background": "light"
     },
     "output_type": "display_data"
    }
   ],
   "source": [
    "plt.xlim([0,9])\n",
    "\n",
    "for client_name in fdata1['client_names']:\n",
    "    raw_dict = dict(Counter(fdata1[client_name]['dtrain']['y']))\n",
    "    index_list = []\n",
    "    value_list = []\n",
    "    for i in sorted(raw_dict):\n",
    "        index_list.append(i)\n",
    "        value_list.append(raw_dict[i])\n",
    "\n",
    "    plt.bar(index_list, value_list)\n",
    "    plt.show()\n",
    "    "
   ]
  },
  {
   "cell_type": "code",
   "execution_count": null,
   "metadata": {},
   "outputs": [],
   "source": [
    "with open('../fedtask/mnist_cnum6_dist2_skew0.8_seed0/data.json', 'r', encoding='utf-8') as f1:\n",
    "    fdata1 = json.load(f1)"
   ]
  },
  {
   "cell_type": "code",
   "execution_count": null,
   "metadata": {},
   "outputs": [
    {
     "data": {
      "text/plain": [
       "dict_keys(['store', 'client_names', 'dtest', 'Client0', 'Client1', 'Client2', 'Client3', 'Client4', 'Client5'])"
      ]
     },
     "execution_count": 9,
     "metadata": {},
     "output_type": "execute_result"
    }
   ],
   "source": [
    "fdata1.keys()"
   ]
  },
  {
   "cell_type": "code",
   "execution_count": null,
   "metadata": {},
   "outputs": [
    {
     "name": "stdout",
     "output_type": "stream",
     "text": [
      "Counter({1: 1135, 2: 1032, 7: 1028, 3: 1010, 9: 1009, 4: 982, 0: 980, 8: 974, 6: 958, 5: 892})\n",
      "Client0 Counter({2: 3478, 9: 1718, 3: 1033, 1: 808, 7: 609, 8: 458, 0: 290, 4: 159, 6: 124, 5: 95})\n",
      "Client1 Counter({8: 2274, 3: 1384, 4: 983, 1: 838, 5: 725, 7: 273, 2: 196, 9: 169, 6: 86, 0: 21})\n",
      "Client2 Counter({5: 2220, 7: 1576, 4: 1473, 1: 1292, 6: 1197, 2: 559, 0: 525, 3: 15})\n",
      "Client3 Counter({8: 1741, 4: 1266, 9: 1147, 6: 996, 7: 957, 5: 688, 3: 581, 0: 450, 1: 249, 2: 94})\n",
      "Client4 Counter({0: 2511, 1: 1529, 3: 1270, 7: 1174, 6: 513, 2: 427, 5: 382, 4: 253})\n",
      "Client5 Counter({6: 1798, 9: 1732, 0: 948, 1: 682, 3: 635, 4: 542, 7: 429, 5: 224, 8: 134, 2: 67})\n"
     ]
    }
   ],
   "source": [
    "print(Counter(fdata1['dtest']['y']))\n",
    "for client in fdata1['client_names']:\n",
    "    print(client, Counter(fdata1[client]['dtrain']['y']))"
   ]
  },
  {
   "cell_type": "code",
   "execution_count": null,
   "metadata": {},
   "outputs": [
    {
     "data": {
      "image/png": "[encoded data removed]",
      "text/plain": [
       "<Figure size 432x288 with 1 Axes>"
      ]
     },
     "metadata": {
      "needs_background": "light"
     },
     "output_type": "display_data"
    }
   ],
   "source": [
    "raw_test_dict = dict(Counter(fdata1['dtest']['y']))\n",
    "index_list1 = []\n",
    "value_list1 = []\n",
    "for i in sorted(raw_test_dict):\n",
    "    index_list1.append(i)\n",
    "    value_list1.append(raw_test_dict[i])\n",
    "\n",
    "plt.bar(index_list1, value_list1)\n",
    "plt.show()"
   ]
  }
 ],
 "metadata": {
  "kernelspec": {
   "display_name": "Python 3.8.12 ('longnd')",
   "language": "python",
   "name": "python3"
  },
  "language_info": {
   "codemirror_mode": {
    "name": "ipython",
    "version": 3
   },
   "file_extension": ".py",
   "mimetype": "text/x-python",
   "name": "python",
   "nbconvert_exporter": "python",
   "pygments_lexer": "ipython3",
   "version": "3.8.12"
  },
  "orig_nbformat": 4,
  "vscode": {
   "interpreter": {
    "hash": "9f784b053654bb8129a3cb1aa1762d7834caeb9ba8691a85058f59d7796858ce"
   }
  }
 },
 "nbformat": 4,
 "nbformat_minor": 2
}
