{
 "cells": [
  {
   "cell_type": "code",
   "execution_count": 1,
   "metadata": {},
   "outputs": [],
   "source": [
    "import numpy as np\n",
    "from ortools.linear_solver import pywraplp\n",
    "import json\n",
    "from collections import Counter\n",
    "from tqdm.auto import tqdm"
   ]
  },
  {
   "cell_type": "code",
   "execution_count": 2,
   "metadata": {},
   "outputs": [],
   "source": [
    "with open('../fedtask/mnist_cnum6_dist2_skew0.8_seed0/data.json', 'r', encoding='utf-8') as f1:\n",
    "    fdata1 = json.load(f1)"
   ]
  },
  {
   "cell_type": "code",
   "execution_count": 3,
   "metadata": {},
   "outputs": [],
   "source": [
    "N_CLASSES = 10"
   ]
  },
  {
   "cell_type": "code",
   "execution_count": 4,
   "metadata": {},
   "outputs": [],
   "source": [
    "def counter_to_array(labels_):\n",
    "    counter = Counter(labels_)\n",
    "    result = np.zeros(N_CLASSES)\n",
    "    for l in range(N_CLASSES):\n",
    "        result[l] = counter[l]\n",
    "    return result"
   ]
  },
  {
   "cell_type": "code",
   "execution_count": 5,
   "metadata": {},
   "outputs": [],
   "source": [
    "N_test = counter_to_array(fdata1['dtest']['y'])\n",
    "P_test = N_test / N_test.sum()\n",
    "P_clients = dict()\n",
    "for client in fdata1['client_names']:\n",
    "    N_client = counter_to_array(fdata1[client]['dtrain']['y'])\n",
    "    P_clients[client] = N_client / N_client.sum()"
   ]
  },
  {
   "cell_type": "code",
   "execution_count": 6,
   "metadata": {},
   "outputs": [],
   "source": [
    "def wd(P, Q):\n",
    "    solver = pywraplp.Solver.CreateSolver('CLP')\n",
    "    pi = dict()\n",
    "    for i in range(N_CLASSES):\n",
    "        for j in range(N_CLASSES):\n",
    "            pi[i, j] = solver.NumVar(0, solver.infinity(), 'pi[{}, {}]'.format(i, j))\n",
    "    for i in range(N_CLASSES):\n",
    "        solver.Add(sum(pi[i, j] for j in range(N_CLASSES)) == P[i])\n",
    "    for j in range(N_CLASSES):\n",
    "        solver.Add(sum(pi[i, j] for i in range(N_CLASSES)) == Q[j])\n",
    "    solver.Minimize(sum(pi[i, j] for i in range(N_CLASSES) for j in range(N_CLASSES) if i != j))\n",
    "    status = solver.Solve()\n",
    "    if status == pywraplp.Solver.OPTIMAL:\n",
    "        return solver.Objective().Value()\n",
    "    else:\n",
    "        print(\"No optimal solution!\")\n",
    "        return None"
   ]
  },
  {
   "cell_type": "code",
   "execution_count": 7,
   "metadata": {},
   "outputs": [
    {
     "data": {
      "application/vnd.jupyter.widget-view+json": {
       "model_id": "ab5e9177675941a28cb080cb2e0df8c6",
       "version_major": 2,
       "version_minor": 0
      },
      "text/plain": [
       "  0%|          | 0/6 [00:00<?, ?it/s]"
      ]
     },
     "metadata": {},
     "output_type": "display_data"
    },
    {
     "name": "stdout",
     "output_type": "stream",
     "text": [
      "Client0 0.40500031919744645\n",
      "Client1 0.39349032954381924\n",
      "Client2 0.3764173535057017\n",
      "Client3 0.25248232341779897\n",
      "Client4 0.3892663233651818\n",
      "Client5 0.32802284800445003\n"
     ]
    },
    {
     "data": {
      "text/plain": [
       "array([0.40500032, 0.39349033, 0.37641735, 0.25248232, 0.38926632,\n",
       "       0.32802285])"
      ]
     },
     "execution_count": 7,
     "metadata": {},
     "output_type": "execute_result"
    }
   ],
   "source": [
    "tmp = list()\n",
    "for client in tqdm(fdata1['client_names']):\n",
    "    tmp.append(wd(P_clients[client], P_test))\n",
    "    print(client, tmp[-1])\n",
    "tmp = np.array(tmp)\n",
    "# tmp = tmp / tmp.sum()\n",
    "tmp"
   ]
  },
  {
   "cell_type": "code",
   "execution_count": 8,
   "metadata": {},
   "outputs": [
    {
     "name": "stdout",
     "output_type": "stream",
     "text": [
      "4.224976908444024\n"
     ]
    }
   ],
   "source": [
    "# Multivariate random variables\n",
    "np.random.seed(0)\n",
    "a = np.random.rand(32, 128)\n",
    "b = np.random.rand(64, 128)\n",
    "solver = pywraplp.Solver.CreateSolver('CLP')\n",
    "pi = dict()\n",
    "for i in range(32):\n",
    "    for j in range(64):\n",
    "        pi[i, j] = solver.NumVar(0, solver.infinity(), 'pi[{}, {}]'.format(i, j))\n",
    "for i in range(32):\n",
    "    solver.Add(sum(pi[i, j] for j in range(64)) == 1.0 / 32)\n",
    "for j in range(64):\n",
    "    solver.Add(sum(pi[i, j] for i in range(32)) == 1.0 / 64)\n",
    "solver.Minimize(sum(pi[i, j] * np.linalg.norm(a[i] - b[j], 2) for i in range(32) for j in range(64)))\n",
    "status = solver.Solve()\n",
    "if status == pywraplp.Solver.OPTIMAL:\n",
    "    print(solver.Objective().Value())"
   ]
  },
  {
   "cell_type": "code",
   "execution_count": 11,
   "metadata": {},
   "outputs": [
    {
     "data": {
      "text/plain": [
       "array([0.14449378, 0.14986054, 0.15782116, 0.21560837, 0.15183007,\n",
       "       0.18038608])"
      ]
     },
     "execution_count": 11,
     "metadata": {},
     "output_type": "execute_result"
    }
   ],
   "source": [
    "x = 2 * tmp.mean() - tmp\n",
    "x = x / x.sum()\n",
    "x"
   ]
  }
 ],
 "metadata": {
  "kernelspec": {
   "display_name": "Python 3.8.12 ('longnd')",
   "language": "python",
   "name": "python3"
  },
  "language_info": {
   "codemirror_mode": {
    "name": "ipython",
    "version": 3
   },
   "file_extension": ".py",
   "mimetype": "text/x-python",
   "name": "python",
   "nbconvert_exporter": "python",
   "pygments_lexer": "ipython3",
   "version": "3.8.12"
  },
  "orig_nbformat": 4,
  "vscode": {
   "interpreter": {
    "hash": "9f784b053654bb8129a3cb1aa1762d7834caeb9ba8691a85058f59d7796858ce"
   }
  }
 },
 "nbformat": 4,
 "nbformat_minor": 2
}
