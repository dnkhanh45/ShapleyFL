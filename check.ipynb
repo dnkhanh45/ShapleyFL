{
 "cells": [
  {
   "cell_type": "code",
   "execution_count": 1,
   "metadata": {},
   "outputs": [],
   "source": [
    "import json"
   ]
  },
  {
   "cell_type": "code",
   "execution_count": 2,
   "metadata": {},
   "outputs": [],
   "source": [
    "with open('./benchmark/synthetic/data/synthetic(0.0,0.0).json', 'r', encoding='utf-8') as f:\n",
    "    data = json.load(f)"
   ]
  },
  {
   "cell_type": "code",
   "execution_count": 3,
   "metadata": {},
   "outputs": [],
   "source": [
    "with open('./fedtask/synthetic_cnum3_dist0_skew0_seed0/data.json', 'r', encoding='utf-8') as f:\n",
    "    fedtask = json.load(f)"
   ]
  },
  {
   "cell_type": "code",
   "execution_count": 4,
   "metadata": {},
   "outputs": [
    {
     "data": {
      "text/plain": [
       "dict_keys(['store', 'client_names', 'dtest', 'Client0', 'Client1', 'Client2'])"
      ]
     },
     "execution_count": 4,
     "metadata": {},
     "output_type": "execute_result"
    }
   ],
   "source": [
    "fedtask.keys()"
   ]
  },
  {
   "cell_type": "code",
   "execution_count": 5,
   "metadata": {},
   "outputs": [
    {
     "name": "stdout",
     "output_type": "stream",
     "text": [
      "store XY\n",
      "client_names ['Client0', 'Client1', 'Client2']\n"
     ]
    }
   ],
   "source": [
    "for key in ['store', 'client_names']:\n",
    "    print(key, fedtask[key])"
   ]
  },
  {
   "cell_type": "code",
   "execution_count": 6,
   "metadata": {},
   "outputs": [
    {
     "data": {
      "text/plain": [
       "dict_keys(['x', 'y'])"
      ]
     },
     "execution_count": 6,
     "metadata": {},
     "output_type": "execute_result"
    }
   ],
   "source": [
    "fedtask['dtest'].keys()"
   ]
  },
  {
   "cell_type": "code",
   "execution_count": 7,
   "metadata": {},
   "outputs": [],
   "source": [
    "from collections import Counter"
   ]
  },
  {
   "cell_type": "code",
   "execution_count": 13,
   "metadata": {},
   "outputs": [],
   "source": [
    "import os\n",
    "os.makedirs('./fedtask/synthetic_cnum16_non_iid_00_00/record', exist_ok=True)"
   ]
  },
  {
   "cell_type": "code",
   "execution_count": 14,
   "metadata": {},
   "outputs": [
    {
     "data": {
      "text/plain": [
       "dict_keys(['alpha', 'beta', 'n_clients', 'n_dim', 'n_classes', 'n_train', 'n_valid', 'n_test', 'zipf_z', 'seed', 'clients'])"
      ]
     },
     "execution_count": 14,
     "metadata": {},
     "output_type": "execute_result"
    }
   ],
   "source": [
    "data.keys()"
   ]
  },
  {
   "cell_type": "code",
   "execution_count": 15,
   "metadata": {},
   "outputs": [],
   "source": [
    "new_fedtask = {\n",
    "    'store': 'XY',\n",
    "    'client_names': ['Client{}'.format(i) for i in range(data['n_clients'])]\n",
    "}"
   ]
  },
  {
   "cell_type": "code",
   "execution_count": 16,
   "metadata": {},
   "outputs": [],
   "source": [
    "new_fedtask['dtest'] = {\n",
    "    'x': list(),\n",
    "    'y': list()\n",
    "}\n",
    "for client in data['clients']:\n",
    "    new_fedtask['Client{}'.format(client['index'])] = {\n",
    "        'dtrain': {\n",
    "            'x': client['train_set']['x'],\n",
    "            'y': client['train_set']['y']\n",
    "        },\n",
    "        'dvalid': {\n",
    "            'x': client['valid_set']['x'],\n",
    "            'y': client['valid_set']['y']\n",
    "        }\n",
    "    }\n",
    "    new_fedtask['dtest']['x'].extend(client['test_set']['x'])\n",
    "    new_fedtask['dtest']['y'].extend(client['test_set']['y'])"
   ]
  },
  {
   "cell_type": "code",
   "execution_count": 17,
   "metadata": {},
   "outputs": [
    {
     "data": {
      "text/plain": [
       "(dict_keys(['store', 'client_names', 'dtest', 'Client0', 'Client1', 'Client2', 'Client3', 'Client4', 'Client5', 'Client6', 'Client7', 'Client8', 'Client9', 'Client10', 'Client11', 'Client12', 'Client13', 'Client14', 'Client15']),\n",
       " dict_keys(['store', 'client_names', 'dtest', 'Client0', 'Client1', 'Client2']))"
      ]
     },
     "execution_count": 17,
     "metadata": {},
     "output_type": "execute_result"
    }
   ],
   "source": [
    "new_fedtask.keys(), fedtask.keys()"
   ]
  },
  {
   "cell_type": "code",
   "execution_count": 34,
   "metadata": {},
   "outputs": [],
   "source": [
    "with open('./fedtask/synthetic_cnum16_non_iid_00_00/data.json', 'w', encoding='utf-8') as f:\n",
    "    json.dump(new_fedtask, f, ensure_ascii=False)"
   ]
  },
  {
   "cell_type": "code",
   "execution_count": 3,
   "metadata": {},
   "outputs": [],
   "source": [
    "from matplotlib import pyplot as plt\n",
    "from matplotlib.pyplot import figure"
   ]
  },
  {
   "cell_type": "code",
   "execution_count": 10,
   "metadata": {},
   "outputs": [
    {
     "data": {
      "text/plain": [
       "(Counter({4: 119}), Counter({7: 71, 5: 110, 3: 3, 8: 4, 6: 1}))"
      ]
     },
     "execution_count": 10,
     "metadata": {},
     "output_type": "execute_result"
    }
   ],
   "source": [
    "Counter(data['clients'][1]['test_set']['y']), Counter(data['clients'][0]['test_set']['y'])"
   ]
  }
 ],
 "metadata": {
  "kernelspec": {
   "display_name": "Python 3.10.5 ('pytorch')",
   "language": "python",
   "name": "python3"
  },
  "language_info": {
   "codemirror_mode": {
    "name": "ipython",
    "version": 3
   },
   "file_extension": ".py",
   "mimetype": "text/x-python",
   "name": "python",
   "nbconvert_exporter": "python",
   "pygments_lexer": "ipython3",
   "version": "3.10.5"
  },
  "orig_nbformat": 4,
  "vscode": {
   "interpreter": {
    "hash": "4dbc9917bcaa9a9fa434c727723b90f93ecc3435121eacd019fcd02c268a833c"
   }
  }
 },
 "nbformat": 4,
 "nbformat_minor": 2
}
