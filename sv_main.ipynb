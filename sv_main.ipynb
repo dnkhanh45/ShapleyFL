{
 "cells": [
  {
   "cell_type": "code",
   "execution_count": 63,
   "metadata": {},
   "outputs": [],
   "source": [
    "import utils.fflow as flw\n",
    "import numpy as np\n",
    "import torch\n",
    "import os\n",
    "import multiprocessing\n",
    "from bitsets import bitset\n",
    "import random\n",
    "from copy import deepcopy\n",
    "import networkx as nx\n",
    "import metis"
   ]
  },
  {
   "cell_type": "code",
   "execution_count": 2,
   "metadata": {},
   "outputs": [
    {
     "name": "stdout",
     "output_type": "stream",
     "text": [
      "init fedtask...done\n",
      "init clients...done\n",
      "init server...done\n"
     ]
    }
   ],
   "source": [
    "multiprocessing.set_start_method('spawn')\n",
    "option = {\n",
    "    'task': 'synthetic_cnum16_non_iid_00_00',\n",
    "    'algorithm': 'mp_fedavg',\n",
    "    'model': 'lr',\n",
    "    'sample': 'uniform',\n",
    "    'aggregate': 'none',\n",
    "    'learning_rate_decay': 0.998,\n",
    "    'weight_decay': 0,\n",
    "    'lr_scheduler': -1,\n",
    "    'num_rounds': 0,\n",
    "    'proportion': 1.0,\n",
    "    'num_epochs': 0,\n",
    "    'learning_rate': 0.1,\n",
    "    'batch_size': 10,\n",
    "    'optimizer': 'SGD',\n",
    "    'momentum': 0,\n",
    "    'seed': 0,\n",
    "    'eval_interval': 1,\n",
    "    'num_threads': 1,\n",
    "    'num_threads_per_gpu': 8,\n",
    "    'gpu': [0],\n",
    "    'net_drop': 0,\n",
    "    'net_active': 99999,\n",
    "    'capability': 0,\n",
    "    'learning_rate_lambda': 0,\n",
    "    'q': 0.0,\n",
    "    'epsilon': 0.0,\n",
    "    'eta': 1.0,\n",
    "    'tau': 0,\n",
    "    'alpha': 0.0,\n",
    "    'beta': 1.0,\n",
    "    'gamma': 0.0,\n",
    "    'mu': 0.1,\n",
    "    'server_gpu_id': 0,\n",
    "    'num_gpus': 1\n",
    "}\n",
    "option['num_gpus'] = len(option['gpu'])\n",
    "os.environ['CUDA_VISIBLE_DEVICES'] = ','.join([str(gpu_id) for gpu_id in option['gpu']])\n",
    "os.environ['MASTER_ADDR'] = \"localhost\"\n",
    "os.environ['MASTER_PORT'] = '8888'\n",
    "os.environ['WORLD_SIZE'] = str(3)\n",
    "# set random seed\n",
    "flw.setup_seed(option['seed'])\n",
    "# initialize server\n",
    "server = flw.initialize(option)"
   ]
  },
  {
   "cell_type": "code",
   "execution_count": 3,
   "metadata": {},
   "outputs": [
    {
     "data": {
      "text/plain": [
       "device(type='cuda', index=0)"
      ]
     },
     "execution_count": 3,
     "metadata": {},
     "output_type": "execute_result"
    }
   ],
   "source": [
    "server.model.layer.weight.device"
   ]
  },
  {
   "cell_type": "code",
   "execution_count": 4,
   "metadata": {},
   "outputs": [],
   "source": [
    "ROUND = 1"
   ]
  },
  {
   "cell_type": "code",
   "execution_count": 5,
   "metadata": {},
   "outputs": [
    {
     "data": {
      "text/plain": [
       "('./chkpts/synthetic_cnum16_non_iid_00_00/global',\n",
       " './chkpts/synthetic_cnum16_non_iid_00_00/local')"
      ]
     },
     "execution_count": 5,
     "metadata": {},
     "output_type": "execute_result"
    }
   ],
   "source": [
    "server.global_save_dir, server.local_save_dir"
   ]
  },
  {
   "cell_type": "code",
   "execution_count": 6,
   "metadata": {},
   "outputs": [
    {
     "data": {
      "text/plain": [
       "[0, 1, 2, 3, 4, 5, 6, 7, 8, 9, 10, 11, 12, 13, 14, 15]"
      ]
     },
     "execution_count": 6,
     "metadata": {},
     "output_type": "execute_result"
    }
   ],
   "source": [
    "ROUND_PARTICIPANTS_INDEXES = [\n",
    "    int(file.replace('Client', '').replace('.pt', ''))\n",
    "    for file in os.listdir(os.path.join(\n",
    "        server.local_save_dir, 'Round{}'.format(ROUND)\n",
    "    ))\n",
    "]\n",
    "ROUND_PARTICIPANTS_INDEXES.sort()\n",
    "ROUND_PARTICIPANTS_INDEXES"
   ]
  },
  {
   "cell_type": "code",
   "execution_count": 7,
   "metadata": {},
   "outputs": [],
   "source": [
    "ROUND_CLIENTS_BITSET = bitset('ROUND_CLIENTS_BITSET', tuple(ROUND_PARTICIPANTS_INDEXES))"
   ]
  },
  {
   "cell_type": "code",
   "execution_count": 8,
   "metadata": {},
   "outputs": [
    {
     "name": "stdout",
     "output_type": "stream",
     "text": [
      "1111111111111111\n"
     ]
    },
    {
     "data": {
      "text/plain": [
       "{'1111111111111111': 1}"
      ]
     },
     "execution_count": 8,
     "metadata": {},
     "output_type": "execute_result"
    }
   ],
   "source": [
    "DICT = dict()\n",
    "ROUND_ALL_PARTICIPANTS_BITSET_KEY = ROUND_CLIENTS_BITSET(ROUND_PARTICIPANTS_INDEXES).bits()\n",
    "print(ROUND_ALL_PARTICIPANTS_BITSET_KEY)\n",
    "DICT[ROUND_ALL_PARTICIPANTS_BITSET_KEY] = 1\n",
    "DICT"
   ]
  },
  {
   "cell_type": "code",
   "execution_count": 25,
   "metadata": {},
   "outputs": [],
   "source": [
    "for _ in range(10):\n",
    "    selected_clients_indexes = random.sample(ROUND_PARTICIPANTS_INDEXES, 3)\n",
    "    bitset_key = ROUND_CLIENTS_BITSET(selected_clients_indexes).bits()\n",
    "    DICT[bitset_key] = 1"
   ]
  },
  {
   "cell_type": "code",
   "execution_count": 26,
   "metadata": {},
   "outputs": [
    {
     "data": {
      "text/plain": [
       "['Client13', 'Client15', 'Client8']"
      ]
     },
     "execution_count": 26,
     "metadata": {},
     "output_type": "execute_result"
    }
   ],
   "source": [
    "[server.clients[i].name for i in selected_clients_indexes]"
   ]
  },
  {
   "cell_type": "code",
   "execution_count": 13,
   "metadata": {},
   "outputs": [
    {
     "data": {
      "text/plain": [
       "Model(\n",
       "  (layer): Linear(in_features=30, out_features=10, bias=True)\n",
       ")"
      ]
     },
     "execution_count": 13,
     "metadata": {},
     "output_type": "execute_result"
    }
   ],
   "source": [
    "CPU = torch.device('cpu')\n",
    "server.model.to(CPU)"
   ]
  },
  {
   "cell_type": "code",
   "execution_count": 18,
   "metadata": {},
   "outputs": [],
   "source": [
    "for client in server.clients:\n",
    "    client.model = deepcopy(server.model)\n",
    "    client.model.load_state_dict(\n",
    "        torch.load(os.path.join(\n",
    "            server.local_save_dir, 'Round{}/{}.pt'.format(ROUND, client.name)\n",
    "        ))\n",
    "    )"
   ]
  },
  {
   "cell_type": "code",
   "execution_count": 21,
   "metadata": {},
   "outputs": [
    {
     "data": {
      "text/plain": [
       "(Parameter containing:\n",
       " tensor([0., 0., 0., 0., 0., 0., 0., 0., 0., 0.], requires_grad=True),\n",
       " Parameter containing:\n",
       " tensor([-0.0645, -0.0979, -0.0010, -0.0659, -0.0641,  0.2343, -0.0803, -0.0970,\n",
       "          0.1359,  0.1005], requires_grad=True))"
      ]
     },
     "execution_count": 21,
     "metadata": {},
     "output_type": "execute_result"
    }
   ],
   "source": [
    "server.model.layer.bias, server.clients[0].model.layer.bias"
   ]
  },
  {
   "cell_type": "code",
   "execution_count": 32,
   "metadata": {},
   "outputs": [
    {
     "data": {
      "text/plain": [
       "array([0.32454361, 0.26369168, 0.41176471])"
      ]
     },
     "execution_count": 32,
     "metadata": {},
     "output_type": "execute_result"
    }
   ],
   "source": [
    "selected_clients = [server.clients[index] for index in selected_clients_indexes]\n",
    "models = [client.model for client in selected_clients]\n",
    "p = np.array([client.datavol for client in selected_clients])\n",
    "p = p / p.sum()\n",
    "p"
   ]
  },
  {
   "cell_type": "code",
   "execution_count": 37,
   "metadata": {},
   "outputs": [],
   "source": [
    "server.model = server.aggregate(models=models, p=p)"
   ]
  },
  {
   "cell_type": "code",
   "execution_count": 39,
   "metadata": {},
   "outputs": [
    {
     "data": {
      "text/plain": [
       "Parameter containing:\n",
       "tensor([-0.0054,  0.1488, -0.0369, -0.0396,  0.0256, -0.0267,  0.0272, -0.0419,\n",
       "        -0.0348, -0.0163], requires_grad=True)"
      ]
     },
     "execution_count": 39,
     "metadata": {},
     "output_type": "execute_result"
    }
   ],
   "source": [
    "server.model.layer.bias"
   ]
  },
  {
   "cell_type": "code",
   "execution_count": 43,
   "metadata": {},
   "outputs": [],
   "source": [
    "DICT = dict()"
   ]
  },
  {
   "cell_type": "code",
   "execution_count": 47,
   "metadata": {},
   "outputs": [],
   "source": [
    "CUDA = torch.device('cuda')"
   ]
  },
  {
   "cell_type": "code",
   "execution_count": 48,
   "metadata": {},
   "outputs": [
    {
     "data": {
      "text/plain": [
       "(0.2552083333333333, 2.1994385719299316)"
      ]
     },
     "execution_count": 48,
     "metadata": {},
     "output_type": "execute_result"
    }
   ],
   "source": [
    "server.model.to(CUDA)\n",
    "server.test()"
   ]
  },
  {
   "cell_type": "code",
   "execution_count": 50,
   "metadata": {},
   "outputs": [
    {
     "data": {
      "text/plain": [
       "<All keys matched successfully>"
      ]
     },
     "execution_count": 50,
     "metadata": {},
     "output_type": "execute_result"
    }
   ],
   "source": [
    "server.model.load_state_dict(\n",
    "    torch.load(\n",
    "        os.path.join(server.global_save_dir, 'Round{}.pt'.format(ROUND)),\n",
    "        map_location=CUDA\n",
    "    )\n",
    ")"
   ]
  },
  {
   "cell_type": "code",
   "execution_count": 54,
   "metadata": {},
   "outputs": [],
   "source": [
    "DICT[ROUND_ALL_PARTICIPANTS_BITSET_KEY] = server.test()[0]"
   ]
  },
  {
   "cell_type": "code",
   "execution_count": 56,
   "metadata": {},
   "outputs": [],
   "source": [
    "def utility_function(client_indexes_):\n",
    "    bitset_key = ROUND_CLIENTS_BITSET(client_indexes_).bits()\n",
    "    if bitset_key in DICT.keys():\n",
    "        return DICT[bitset_key]\n",
    "    selected_clients = [server.clients[index] for index in client_indexes_]\n",
    "    models = [client.model for client in selected_clients]\n",
    "    p = np.array([client.datavol for client in selected_clients])\n",
    "    p = p / p.sum()\n",
    "    server.model = server.aggregate(models=models, p=p)\n",
    "    server.model.to(CUDA)\n",
    "    acc = server.test()[0]\n",
    "    DICT[bitset_key] = acc\n",
    "    return acc"
   ]
  },
  {
   "cell_type": "code",
   "execution_count": 77,
   "metadata": {},
   "outputs": [],
   "source": [
    "EDGES = list()\n",
    "for u in ROUND_PARTICIPANTS_INDEXES:\n",
    "    for v in ROUND_PARTICIPANTS_INDEXES:\n",
    "        if u >= v:\n",
    "            continue\n",
    "        w = utility_function([u]) + utility_function([v]) - utility_function([u, v])\n",
    "        w *= len(server.test_data)\n",
    "        w = int(np.round(w))\n",
    "        EDGES.append((u, v, w))"
   ]
  },
  {
   "cell_type": "code",
   "execution_count": 86,
   "metadata": {},
   "outputs": [
    {
     "data": {
      "text/plain": [
       "(16, 120)"
      ]
     },
     "execution_count": 86,
     "metadata": {},
     "output_type": "execute_result"
    }
   ],
   "source": [
    "G = nx.Graph()\n",
    "G.add_weighted_edges_from(EDGES)\n",
    "G.graph['edge_weight_attr'] = 'weight'\n",
    "all_nodes = np.array(G.nodes)\n",
    "all_nodes\n",
    "len(G.nodes()), len(G.edges())"
   ]
  },
  {
   "cell_type": "code",
   "execution_count": 98,
   "metadata": {},
   "outputs": [
    {
     "data": {
      "text/plain": [
       "[array([ 0,  1,  2,  3,  5,  6, 10, 11]),\n",
       " array([ 4,  7,  8,  9, 12, 13, 14, 15])]"
      ]
     },
     "execution_count": 98,
     "metadata": {},
     "output_type": "execute_result"
    }
   ],
   "source": [
    "cutcost, parts = metis.part_graph(G, nparts=2, recursive=False)\n",
    "parts = np.array(parts)\n",
    "parts_nodes = list()\n",
    "for part_index in np.unique(parts):\n",
    "    nodes_indexes = np.where(parts == part_index)[0]\n",
    "    parts_nodes.append(all_nodes[nodes_indexes])\n",
    "parts_nodes"
   ]
  },
  {
   "cell_type": "code",
   "execution_count": 103,
   "metadata": {},
   "outputs": [
    {
     "ename": "",
     "evalue": "",
     "output_type": "error",
     "traceback": [
      "\u001b[1;31mThe Kernel crashed while executing code in the the current cell or a previous cell. Please review the code in the cell(s) to identify a possible cause of the failure. Click <a href='https://aka.ms/vscodeJupyterKernelCrash'>here</a> for more info. View Jupyter <a href='command:jupyter.viewOutput'>log</a> for further details."
     ]
    }
   ],
   "source": [
    "exit()"
   ]
  }
 ],
 "metadata": {
  "kernelspec": {
   "display_name": "Python 3.10.5 ('pytorch')",
   "language": "python",
   "name": "python3"
  },
  "language_info": {
   "codemirror_mode": {
    "name": "ipython",
    "version": 3
   },
   "file_extension": ".py",
   "mimetype": "text/x-python",
   "name": "python",
   "nbconvert_exporter": "python",
   "pygments_lexer": "ipython3",
   "version": "3.10.5"
  },
  "orig_nbformat": 4,
  "vscode": {
   "interpreter": {
    "hash": "4dbc9917bcaa9a9fa434c727723b90f93ecc3435121eacd019fcd02c268a833c"
   }
  }
 },
 "nbformat": 4,
 "nbformat_minor": 2
}
